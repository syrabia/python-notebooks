{
 "cells": [
  {
   "cell_type": "markdown",
   "metadata": {},
   "source": [
    "# classes \n"
   ]
  },
  {
   "cell_type": "code",
   "execution_count": 38,
   "metadata": {},
   "outputs": [],
   "source": [
    "class Mobile():\n",
    "    #attribute\n",
    "    def __init__(self,brand,colour,prize,memory=\"free\",ram=\"free\"): #constructor,initializer=init\n",
    "        self.mobbrand= brand\n",
    "        self.mobcolour= colour\n",
    "        self.mobprize= prize\n",
    "        self.mobmemory= memory\n",
    "        self.mobram= ram\n",
    "        \n",
    "    #behaviours>>>>>functions\n",
    "    def makeAcalll(self):\n",
    "        print(f\"{self.mobbrand} is dialing\")\n",
    "    def recieveAcall(self):\n",
    "        print(\"mobile is receiving\")\n",
    "    def dropsAcall(self):\n",
    "        print(\"mobile is declining\")\n",
    "    def messagerite(self):\n",
    "        print(\"mobile is messaging\")\n",
    "    def messagedel(self):\n",
    "        print(\"mobile is deleting\")\n",
    "    def messagesend(self):\n",
    "        print(\"mobile is sending\")\n",
    "    def messageread(self):\n",
    "        print(f\"{self.mobcolour} is reading\")\n",
    "\n",
    "    "
   ]
  },
  {
   "cell_type": "code",
   "execution_count": 39,
   "metadata": {},
   "outputs": [],
   "source": [
    "mobile1= Mobile(\"Nokia\",\"Black\",10000,\"16GB\",\"2GB\")"
   ]
  },
  {
   "cell_type": "code",
   "execution_count": 40,
   "metadata": {},
   "outputs": [],
   "source": [
    "mobile2= Mobile(\"Samsung\",\"Blue\",20000,\"2GB\",\"4GB\") #set the value you dont want to give as arguments as free in the class brackets"
   ]
  },
  {
   "cell_type": "code",
   "execution_count": 41,
   "metadata": {},
   "outputs": [
    {
     "name": "stdout",
     "output_type": "stream",
     "text": [
      "Black is reading\n"
     ]
    }
   ],
   "source": [
    "mobile1.messageread()"
   ]
  },
  {
   "cell_type": "code",
   "execution_count": 42,
   "metadata": {},
   "outputs": [
    {
     "name": "stdout",
     "output_type": "stream",
     "text": [
      "Nokia is dialing\n"
     ]
    }
   ],
   "source": [
    "mobile1.makeAcalll()"
   ]
  },
  {
   "cell_type": "code",
   "execution_count": 48,
   "metadata": {
    "scrolled": true
   },
   "outputs": [
    {
     "data": {
      "text/plain": [
       "'16GB'"
      ]
     },
     "execution_count": 48,
     "metadata": {},
     "output_type": "execute_result"
    }
   ],
   "source": [
    "mobile1.mobmemory"
   ]
  },
  {
   "cell_type": "code",
   "execution_count": 44,
   "metadata": {},
   "outputs": [
    {
     "name": "stdout",
     "output_type": "stream",
     "text": [
      "Nokia is dialing\n"
     ]
    }
   ],
   "source": [
    "mobile1.makeAcalll()"
   ]
  },
  {
   "cell_type": "code",
   "execution_count": 45,
   "metadata": {},
   "outputs": [
    {
     "name": "stdout",
     "output_type": "stream",
     "text": [
      "Samsung is dialing\n"
     ]
    }
   ],
   "source": [
    "mobile2.makeAcalll()"
   ]
  },
  {
   "cell_type": "code",
   "execution_count": 46,
   "metadata": {},
   "outputs": [
    {
     "name": "stdout",
     "output_type": "stream",
     "text": [
      "Black is reading\n"
     ]
    }
   ],
   "source": [
    "mobile1.messageread()"
   ]
  },
  {
   "cell_type": "code",
   "execution_count": 49,
   "metadata": {},
   "outputs": [
    {
     "name": "stdout",
     "output_type": "stream",
     "text": [
      "Blue is reading\n"
     ]
    }
   ],
   "source": [
    "mobile2.messageread()"
   ]
  },
  {
   "cell_type": "code",
   "execution_count": 67,
   "metadata": {},
   "outputs": [],
   "source": [
    "class Student():\n",
    "    #attribute\n",
    "    def __init__(self,name,age,gender,email,course): #constructor,initializer=init\n",
    "        self.name= name\n",
    "        self.age= age\n",
    "        self.gender= gender\n",
    "        self.email= email\n",
    "        self.course= course\n",
    "        \n",
    "    #behaviours>>>>>functions\n",
    "    def study(self):\n",
    "        print(f\"{self.name} is studying\")\n",
    "    def exam(self):\n",
    "        print(f\"{self.name} is appearing in exam\")\n",
    "    def assignment(self):\n",
    "        print(f\"{self.name} is submitting the assignment\")\n"
   ]
  },
  {
   "cell_type": "code",
   "execution_count": 68,
   "metadata": {},
   "outputs": [],
   "source": [
    "student1=Student(\"RABIA\",20,\"FEMALE\",\"rabia-jamil1@hotmail.com\",\"AIC\")"
   ]
  },
  {
   "cell_type": "code",
   "execution_count": 69,
   "metadata": {},
   "outputs": [],
   "source": [
    "student2=Student(\"ALI\",20,\"MALE\",\"alikhan@hotmail.com\",\"APC\")"
   ]
  },
  {
   "cell_type": "code",
   "execution_count": 70,
   "metadata": {},
   "outputs": [],
   "source": [
    "student3=Student(\"ARJUMAND\",21,\"FEMALE\",\"arjumandsyed@gmail.com\",\"Iot\")"
   ]
  },
  {
   "cell_type": "code",
   "execution_count": 71,
   "metadata": {},
   "outputs": [
    {
     "name": "stdout",
     "output_type": "stream",
     "text": [
      "RABIA is studying\n"
     ]
    }
   ],
   "source": [
    "student1.study()"
   ]
  },
  {
   "cell_type": "code",
   "execution_count": 72,
   "metadata": {},
   "outputs": [
    {
     "name": "stdout",
     "output_type": "stream",
     "text": [
      "ALI is studying\n"
     ]
    }
   ],
   "source": [
    "student2.study()"
   ]
  },
  {
   "cell_type": "code",
   "execution_count": 73,
   "metadata": {},
   "outputs": [
    {
     "name": "stdout",
     "output_type": "stream",
     "text": [
      "ARJUMAND is studying\n"
     ]
    }
   ],
   "source": [
    "student3.study()"
   ]
  },
  {
   "cell_type": "code",
   "execution_count": 74,
   "metadata": {},
   "outputs": [
    {
     "name": "stdout",
     "output_type": "stream",
     "text": [
      "RABIA is appearing in exam\n"
     ]
    }
   ],
   "source": [
    "student1.exam()"
   ]
  },
  {
   "cell_type": "code",
   "execution_count": 75,
   "metadata": {},
   "outputs": [
    {
     "name": "stdout",
     "output_type": "stream",
     "text": [
      "ALI is appearing in exam\n"
     ]
    }
   ],
   "source": [
    "student2.exam()"
   ]
  },
  {
   "cell_type": "code",
   "execution_count": 76,
   "metadata": {},
   "outputs": [
    {
     "name": "stdout",
     "output_type": "stream",
     "text": [
      "ARJUMAND is appearing in exam\n"
     ]
    }
   ],
   "source": [
    "student3.exam()"
   ]
  },
  {
   "cell_type": "code",
   "execution_count": null,
   "metadata": {},
   "outputs": [],
   "source": []
  }
 ],
 "metadata": {
  "kernelspec": {
   "display_name": "Python 3",
   "language": "python",
   "name": "python3"
  },
  "language_info": {
   "codemirror_mode": {
    "name": "ipython",
    "version": 3
   },
   "file_extension": ".py",
   "mimetype": "text/x-python",
   "name": "python",
   "nbconvert_exporter": "python",
   "pygments_lexer": "ipython3",
   "version": "3.7.3"
  }
 },
 "nbformat": 4,
 "nbformat_minor": 2
}
