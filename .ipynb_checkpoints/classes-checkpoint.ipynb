{
 "cells": [
  {
   "cell_type": "markdown",
   "metadata": {},
   "source": [
    "# classes \n"
   ]
  },
  {
   "cell_type": "code",
   "execution_count": 38,
   "metadata": {},
   "outputs": [],
   "source": [
    "class Mobile():\n",
    "    #attribute\n",
    "    def __init__(self,brand,colour,prize,memory=\"free\",ram=\"free\"): #constructor,initializer=init\n",
    "        self.mobbrand= brand\n",
    "        self.mobcolour= colour\n",
    "        self.mobprize= prize\n",
    "        self.mobmemory= memory\n",
    "        self.mobram= ram\n",
    "        \n",
    "    #behaviours>>>>>functions\n",
    "    def makeAcalll(self):\n",
    "        print(f\"{self.mobbrand} is dialing\")\n",
    "    def recieveAcall(self):\n",
    "        print(\"mobile is receiving\")\n",
    "    def dropsAcall(self):\n",
    "        print(\"mobile is declining\")\n",
    "    def messagerite(self):\n",
    "        print(\"mobile is messaging\")\n",
    "    def messagedel(self):\n",
    "        print(\"mobile is deleting\")\n",
    "    def messagesend(self):\n",
    "        print(\"mobile is sending\")\n",
    "    def messageread(self):\n",
    "        print(f\"{self.mobcolour} is reading\")\n",
    "\n",
    "    "
   ]
  },
  {
   "cell_type": "code",
   "execution_count": 39,
   "metadata": {},
   "outputs": [],
   "source": [
    "mobile1= Mobile(\"Nokia\",\"Black\",10000,\"16GB\",\"2GB\")"
   ]
  },
  {
   "cell_type": "code",
   "execution_count": 40,
   "metadata": {},
   "outputs": [],
   "source": [
    "mobile2= Mobile(\"Samsung\",\"Blue\",20000,\"2GB\",\"4GB\") #set the value you dont want to give as arguments as free in the class brackets"
   ]
  },
  {
   "cell_type": "code",
   "execution_count": 41,
   "metadata": {},
   "outputs": [
    {
     "name": "stdout",
     "output_type": "stream",
     "text": [
      "Black is reading\n"
     ]
    }
   ],
   "source": [
    "mobile1.messageread()"
   ]
  },
  {
   "cell_type": "code",
   "execution_count": 42,
   "metadata": {},
   "outputs": [
    {
     "name": "stdout",
     "output_type": "stream",
     "text": [
      "Nokia is dialing\n"
     ]
    }
   ],
   "source": [
    "mobile1.makeAcalll()"
   ]
  },
  {
   "cell_type": "code",
   "execution_count": 43,
   "metadata": {},
   "outputs": [
    {
     "data": {
      "text/plain": [
       "'16GB'"
      ]
     },
     "execution_count": 43,
     "metadata": {},
     "output_type": "execute_result"
    }
   ],
   "source": [
    "mobile1.mobmemory"
   ]
  },
  {
   "cell_type": "code",
   "execution_count": 44,
   "metadata": {},
   "outputs": [
    {
     "name": "stdout",
     "output_type": "stream",
     "text": [
      "Nokia is dialing\n"
     ]
    }
   ],
   "source": [
    "mobile1.makeAcalll()"
   ]
  },
  {
   "cell_type": "code",
   "execution_count": 45,
   "metadata": {},
   "outputs": [
    {
     "name": "stdout",
     "output_type": "stream",
     "text": [
      "Samsung is dialing\n"
     ]
    }
   ],
   "source": [
    "mobile2.makeAcalll()"
   ]
  },
  {
   "cell_type": "code",
   "execution_count": 46,
   "metadata": {},
   "outputs": [
    {
     "name": "stdout",
     "output_type": "stream",
     "text": [
      "Black is reading\n"
     ]
    }
   ],
   "source": [
    "mobile1.messageread()"
   ]
  },
  {
   "cell_type": "code",
   "execution_count": 47,
   "metadata": {},
   "outputs": [
    {
     "name": "stdout",
     "output_type": "stream",
     "text": [
      "Blue is reading\n"
     ]
    }
   ],
   "source": [
    "mobile2.messageread()"
   ]
  },
  {
   "cell_type": "code",
   "execution_count": null,
   "metadata": {},
   "outputs": [],
   "source": []
  },
  {
   "cell_type": "code",
   "execution_count": null,
   "metadata": {},
   "outputs": [],
   "source": []
  }
 ],
 "metadata": {
  "kernelspec": {
   "display_name": "Python 3",
   "language": "python",
   "name": "python3"
  },
  "language_info": {
   "codemirror_mode": {
    "name": "ipython",
    "version": 3
   },
   "file_extension": ".py",
   "mimetype": "text/x-python",
   "name": "python",
   "nbconvert_exporter": "python",
   "pygments_lexer": "ipython3",
   "version": "3.7.3"
  }
 },
 "nbformat": 4,
 "nbformat_minor": 2
}
