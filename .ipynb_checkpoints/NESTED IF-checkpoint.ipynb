{
 "cells": [
  {
   "cell_type": "code",
   "execution_count": null,
   "metadata": {},
   "outputs": [],
   "source": [
    "if a==b:\n",
    "    if a>b:\n",
    "        if a<b:\n",
    "            if a!=b:"
   ]
  },
  {
   "cell_type": "code",
   "execution_count": 5,
   "metadata": {},
   "outputs": [
    {
     "name": "stdout",
     "output_type": "stream",
     "text": [
      "do you have cnic?yes\n",
      "you may enter\n",
      "is my name in the list?no\n",
      "you can't cast the vote\n"
     ]
    }
   ],
   "source": [
    "cnic= input(\"do you have cnic?\")\n",
    "if cnic== 'yes':\n",
    "    print(\"you may enter\")\n",
    "    nameinlist=input(\"is my name in the list?\")\n",
    "    if nameinlist=='yes':\n",
    "        print(\"please cast your vote\")\n",
    "    else:\n",
    "        print(\"you can't cast the vote\")\n",
    "else:\n",
    "    print(\"go & bring your cnic\")"
   ]
  },
  {
   "cell_type": "code",
   "execution_count": 2,
   "metadata": {},
   "outputs": [
    {
     "name": "stdout",
     "output_type": "stream",
     "text": [
      "do you have cnic?no\n",
      "you may go\n"
     ]
    }
   ],
   "source": [
    "cnic= input(\"do you have cnic?\")\n",
    "if cnic== 'yes':\n",
    "    print(\"you may enter\")\n",
    "else:\n",
    "    print(\"you may go\")"
   ]
  },
  {
   "cell_type": "code",
   "execution_count": null,
   "metadata": {},
   "outputs": [],
   "source": []
  },
  {
   "cell_type": "code",
   "execution_count": null,
   "metadata": {},
   "outputs": [],
   "source": []
  }
 ],
 "metadata": {
  "kernelspec": {
   "display_name": "Python 3",
   "language": "python",
   "name": "python3"
  },
  "language_info": {
   "codemirror_mode": {
    "name": "ipython",
    "version": 3
   },
   "file_extension": ".py",
   "mimetype": "text/x-python",
   "name": "python",
   "nbconvert_exporter": "python",
   "pygments_lexer": "ipython3",
   "version": "3.7.3"
  }
 },
 "nbformat": 4,
 "nbformat_minor": 2
}
