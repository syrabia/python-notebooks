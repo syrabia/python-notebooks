{
 "cells": [
  {
   "cell_type": "markdown",
   "metadata": {},
   "source": [
    "# Format"
   ]
  },
  {
   "cell_type": "code",
   "execution_count": 2,
   "metadata": {},
   "outputs": [
    {
     "name": "stdout",
     "output_type": "stream",
     "text": [
      "My name is aisha and my age is 25.\n"
     ]
    }
   ],
   "source": [
    "name=\"aisha\"\n",
    "age = 25\n",
    "print('My name is {} and my age is {}.'.format(name,age))"
   ]
  },
  {
   "cell_type": "code",
   "execution_count": 3,
   "metadata": {},
   "outputs": [
    {
     "name": "stdout",
     "output_type": "stream",
     "text": [
      "My name is 25 and my age is aisha.\n"
     ]
    }
   ],
   "source": [
    "print('My name is {1} and my age is {0}.'.format(name,age))"
   ]
  },
  {
   "cell_type": "code",
   "execution_count": 4,
   "metadata": {},
   "outputs": [
    {
     "name": "stdout",
     "output_type": "stream",
     "text": [
      "My name is aisha and my age is aisha.\n"
     ]
    }
   ],
   "source": [
    "print('My name is {0} and my age is {0}.'.format(name,age))"
   ]
  },
  {
   "cell_type": "code",
   "execution_count": 5,
   "metadata": {},
   "outputs": [
    {
     "name": "stdout",
     "output_type": "stream",
     "text": [
      "My name is aisha and my age is 25.\n"
     ]
    }
   ],
   "source": [
    "print('My name is {0} and my age is {1}.'.format(name,age))"
   ]
  },
  {
   "cell_type": "code",
   "execution_count": 6,
   "metadata": {},
   "outputs": [
    {
     "name": "stdout",
     "output_type": "stream",
     "text": [
      "My name is aisha and my age is 25.My name is aisha and my age is 25.My name is aisha and my age is 25.\n"
     ]
    }
   ],
   "source": [
    "print('My name is {0} and my age is {1}.''My name is {0} and my age is {1}.''My name is {0} and my age is {1}.'.format(name,age))"
   ]
  },
  {
   "cell_type": "code",
   "execution_count": 7,
   "metadata": {},
   "outputs": [
    {
     "name": "stdout",
     "output_type": "stream",
     "text": [
      "My name is aisha and my age is aisha.My name is aisha and my age is aisha.My name is aisha and my age is aisha.\n"
     ]
    }
   ],
   "source": [
    "print('My name is {0} and my age is {0}.''My name is {0} and my age is {0}.''My name is {0} and my age is {0}.'.format(name,age))"
   ]
  },
  {
   "cell_type": "code",
   "execution_count": 8,
   "metadata": {},
   "outputs": [
    {
     "name": "stdout",
     "output_type": "stream",
     "text": [
      "My name is aisha and my age is 25.\n"
     ]
    }
   ],
   "source": [
    "print(f'My name is {name} and my age is {age}.')"
   ]
  },
  {
   "cell_type": "code",
   "execution_count": null,
   "metadata": {},
   "outputs": [],
   "source": []
  }
 ],
 "metadata": {
  "kernelspec": {
   "display_name": "Python 3",
   "language": "python",
   "name": "python3"
  },
  "language_info": {
   "codemirror_mode": {
    "name": "ipython",
    "version": 3
   },
   "file_extension": ".py",
   "mimetype": "text/x-python",
   "name": "python",
   "nbconvert_exporter": "python",
   "pygments_lexer": "ipython3",
   "version": "3.7.3"
  }
 },
 "nbformat": 4,
 "nbformat_minor": 2
}
