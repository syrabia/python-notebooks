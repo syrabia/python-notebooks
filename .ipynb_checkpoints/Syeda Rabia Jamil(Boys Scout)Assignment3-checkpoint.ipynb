{
 "cells": [
  {
   "cell_type": "markdown",
   "metadata": {},
   "source": [
    "# Q1:"
   ]
  },
  {
   "cell_type": "markdown",
   "metadata": {},
   "source": [
    "Think of at least three kinds of your favorite pizza. Store these pizza names in a list, and then use a for loop to print the name of each pizza."
   ]
  },
  {
   "cell_type": "code",
   "execution_count": 3,
   "metadata": {},
   "outputs": [],
   "source": [
    "pizza=[\"fajitta\",\"pepproni\",\"chickentikka\"]"
   ]
  },
  {
   "cell_type": "code",
   "execution_count": 4,
   "metadata": {},
   "outputs": [
    {
     "name": "stdout",
     "output_type": "stream",
     "text": [
      "fajitta\n",
      "pepproni\n",
      "chickentikka\n"
     ]
    }
   ],
   "source": [
    "for i in pizza:\n",
    "    print(i)"
   ]
  },
  {
   "cell_type": "markdown",
   "metadata": {},
   "source": [
    "# Q2"
   ]
  },
  {
   "cell_type": "markdown",
   "metadata": {},
   "source": [
    "Start with your last question , Modify your for loop to print a sentence using the name of the pizza\n",
    "instead of printing just the name of the pizza. For each pizza you should\n",
    "have one line of output containing a simple statement like I like pepperoni\n",
    "pizza."
   ]
  },
  {
   "cell_type": "code",
   "execution_count": 13,
   "metadata": {},
   "outputs": [
    {
     "name": "stdout",
     "output_type": "stream",
     "text": [
      "I like fajitta pizza.\n",
      "I like pepproni pizza.\n",
      "I like chickentikka pizza.\n"
     ]
    }
   ],
   "source": [
    "for i in pizza:\n",
    "    print(f\"I like {i} pizza.\")\n",
    "        "
   ]
  },
  {
   "cell_type": "markdown",
   "metadata": {},
   "source": [
    "# Q3:"
   ]
  },
  {
   "cell_type": "markdown",
   "metadata": {},
   "source": [
    "Use a for loop to print the numbers from 1 to 20,\n",
    "inclusive."
   ]
  },
  {
   "cell_type": "code",
   "execution_count": 11,
   "metadata": {},
   "outputs": [
    {
     "name": "stdout",
     "output_type": "stream",
     "text": [
      "1\n",
      "2\n",
      "3\n",
      "4\n",
      "5\n",
      "6\n",
      "7\n",
      "8\n",
      "9\n",
      "10\n",
      "11\n",
      "12\n",
      "13\n",
      "14\n",
      "15\n",
      "16\n",
      "17\n",
      "18\n",
      "19\n",
      "20\n"
     ]
    }
   ],
   "source": [
    "for a in range(1,21):\n",
    "    print(a)"
   ]
  },
  {
   "cell_type": "markdown",
   "metadata": {},
   "source": [
    "# Q4:"
   ]
  },
  {
   "cell_type": "markdown",
   "metadata": {},
   "source": [
    "Use the third argument of the range() function to make a list\n",
    "of the odd numbers from 1 to 20. Use a for loop to print each number."
   ]
  },
  {
   "cell_type": "code",
   "execution_count": 14,
   "metadata": {},
   "outputs": [
    {
     "name": "stdout",
     "output_type": "stream",
     "text": [
      "1\n",
      "3\n",
      "5\n",
      "7\n",
      "9\n",
      "11\n",
      "13\n",
      "15\n",
      "17\n",
      "19\n"
     ]
    }
   ],
   "source": [
    "for a in range(1,21,2):\n",
    "    print(a)"
   ]
  },
  {
   "cell_type": "markdown",
   "metadata": {},
   "source": [
    "# Q5:"
   ]
  },
  {
   "cell_type": "markdown",
   "metadata": {},
   "source": [
    "Make a list of the multiples of 3 from 3 to 30. Use a for loop to\n",
    "print the numbers in your list."
   ]
  },
  {
   "cell_type": "code",
   "execution_count": 15,
   "metadata": {},
   "outputs": [
    {
     "name": "stdout",
     "output_type": "stream",
     "text": [
      "3\n",
      "6\n",
      "9\n",
      "12\n",
      "15\n",
      "18\n",
      "21\n",
      "14\n",
      "27\n",
      "30\n"
     ]
    }
   ],
   "source": [
    "multi=[3,6,9,12,15,18,21,14,27,30]\n",
    "for b in multi:\n",
    "    print(b)"
   ]
  },
  {
   "cell_type": "markdown",
   "metadata": {},
   "source": [
    "# Q6:"
   ]
  },
  {
   "cell_type": "markdown",
   "metadata": {},
   "source": [
    "A number raised to the third power is called a cube. For example,\n",
    "the cube of 2 is written as 2**3 in Python. Make a list of the first 10 cubes (that\n",
    "is, the cube of each integer from 1 through 10), and use a for loop to print out\n",
    "the value of each cube"
   ]
  },
  {
   "cell_type": "code",
   "execution_count": 16,
   "metadata": {},
   "outputs": [
    {
     "name": "stdout",
     "output_type": "stream",
     "text": [
      "1\n",
      "8\n",
      "27\n",
      "64\n",
      "125\n",
      "216\n",
      "343\n",
      "512\n",
      "729\n",
      "1000\n"
     ]
    }
   ],
   "source": [
    "cube=[1,2,3,4,5,6,7,8,9,10]\n",
    "for c in cube:\n",
    "    print(c**3)"
   ]
  },
  {
   "cell_type": "markdown",
   "metadata": {},
   "source": [
    "# Q7:"
   ]
  },
  {
   "cell_type": "markdown",
   "metadata": {},
   "source": [
    "###### Make a python program that conatains your nine favourite dishes in a list called foods.\n",
    "\n",
    "###### Print the message, The first three items in the list are:. \n",
    "###### Then use a slice to print the first three items from that program’s list.\n",
    "\n",
    "###### Print the message, Three items from the middle of the list are:\n",
    "###### Use a slice to print three items from the middle of the list.\n",
    "\n",
    "###### Print the message, The last three items in the list are:\n",
    "###### Use a slice to print the last three items in the list."
   ]
  },
  {
   "cell_type": "code",
   "execution_count": 1,
   "metadata": {},
   "outputs": [
    {
     "name": "stdout",
     "output_type": "stream",
     "text": [
      "The first three items in the list are: ['biryani', 'karahi', 'burger']\n"
     ]
    }
   ],
   "source": [
    "food=[\"biryani\",\"karahi\",\"burger\",\"pizza\",\"kheer\",\"noodles\",\"pasta\",\"macroni\",\"pulao\"]\n",
    "print(\"The first three items in the list are:\",food[0:3]) "
   ]
  },
  {
   "cell_type": "code",
   "execution_count": 31,
   "metadata": {},
   "outputs": [
    {
     "name": "stdout",
     "output_type": "stream",
     "text": [
      "Three items from the middle of the list are:\n"
     ]
    },
    {
     "data": {
      "text/plain": [
       "['pizza', 'kheer', 'noodles']"
      ]
     },
     "execution_count": 31,
     "metadata": {},
     "output_type": "execute_result"
    }
   ],
   "source": [
    "print(\"Three items from the middle of the list are:\")\n",
    "food[3:6]"
   ]
  },
  {
   "cell_type": "code",
   "execution_count": 32,
   "metadata": {},
   "outputs": [
    {
     "name": "stdout",
     "output_type": "stream",
     "text": [
      "The last three items in the list are:\n"
     ]
    },
    {
     "data": {
      "text/plain": [
       "['pasta', 'macroni', 'pulao']"
      ]
     },
     "execution_count": 32,
     "metadata": {},
     "output_type": "execute_result"
    }
   ],
   "source": [
    "print(\"The last three items in the list are:\")\n",
    "food[6:9]"
   ]
  },
  {
   "cell_type": "markdown",
   "metadata": {},
   "source": [
    "# Q8:"
   ]
  },
  {
   "cell_type": "markdown",
   "metadata": {},
   "source": [
    "### Start with your program from your last Question8.\n",
    "###### Make a copy of the list of foods, and call it friend_foods.\n",
    "###### Then, do the following:\n",
    "######    Add a new dish to the original list.\n",
    "######    Add a different dish to the list friend_foodss.\n",
    "######    Prove that you have two separate lists. \n",
    "###### Print the message, My favorite pizzas are: and then use a for loop to print the first list. \n",
    "###### Print the message,\n",
    "###### My friend’s favorite foods are:, and then use a for loop to print the second list.\n",
    "    \n",
    "##### NOTE: Make sure each new dish is stored in the appropriate list."
   ]
  },
  {
   "cell_type": "code",
   "execution_count": 34,
   "metadata": {},
   "outputs": [
    {
     "data": {
      "text/plain": [
       "['biryani',\n",
       " 'karahi',\n",
       " 'burger',\n",
       " 'pizza',\n",
       " 'kheer',\n",
       " 'noodles',\n",
       " 'pasta',\n",
       " 'macroni',\n",
       " 'pulao']"
      ]
     },
     "execution_count": 34,
     "metadata": {},
     "output_type": "execute_result"
    }
   ],
   "source": [
    "friend_foods=food.copy()\n",
    "friend_foods"
   ]
  },
  {
   "cell_type": "code",
   "execution_count": 35,
   "metadata": {},
   "outputs": [],
   "source": [
    "food.append(\"korma\")"
   ]
  },
  {
   "cell_type": "code",
   "execution_count": 36,
   "metadata": {},
   "outputs": [],
   "source": [
    "friend_foods.append(\"shawarma\")"
   ]
  },
  {
   "cell_type": "code",
   "execution_count": 41,
   "metadata": {},
   "outputs": [
    {
     "name": "stdout",
     "output_type": "stream",
     "text": [
      "My favourite foods are:['biryani', 'karahi', 'burger', 'pizza', 'kheer', 'noodles', 'pasta', 'macroni', 'pulao', 'korma']\n",
      "My favourite foods are:['biryani', 'karahi', 'burger', 'pizza', 'kheer', 'noodles', 'pasta', 'macroni', 'pulao', 'shawarma']\n"
     ]
    }
   ],
   "source": [
    "print(f\"My favourite foods are:{food}\")\n",
    "print(f\"My favourite foods are:{friend_foods}\")"
   ]
  },
  {
   "cell_type": "markdown",
   "metadata": {},
   "source": [
    "# Q9:"
   ]
  },
  {
   "cell_type": "markdown",
   "metadata": {},
   "source": [
    "Take a user input from console line.Store it in a variable called Alien_color.\n",
    "\n",
    "If the alien’s color is red, print a statement that the player just earned 5 points for shooting the alien.\n",
    "\n",
    "If the alien’s color isn’t green, print a statement that the player just earned 10 points.\n",
    "\n",
    "If the alien's color isn't red or green , print a statment :, Alien is no more....."
   ]
  },
  {
   "cell_type": "code",
   "execution_count": 19,
   "metadata": {},
   "outputs": [
    {
     "name": "stdout",
     "output_type": "stream",
     "text": [
      "yellow\n",
      "The player just earned 10 points.\n",
      "Alien is no more.....\n"
     ]
    }
   ],
   "source": [
    "Alien_color=input()\n",
    "if Alien_color==\"red\":\n",
    "    print(\"The player just earned 5 points for shooting the alien.\")\n",
    "if Alien_color!=\"green\":\n",
    "    print(\"The player just earned 10 points.\")\n",
    "if Alien_color!=\"red\" and Alien_color!=\"green\":\n",
    "    print(\"Alien is no more.....\")"
   ]
  },
  {
   "cell_type": "markdown",
   "metadata": {},
   "source": [
    "# Q10:"
   ]
  },
  {
   "cell_type": "markdown",
   "metadata": {},
   "source": [
    "Write an if-elif-else chain that determines a person’s\n",
    "stage of life. Set a value for the variable age, and then:\n",
    "    \n",
    "•\t If the person is less than 2 years old, print a message that the person is a baby.\n",
    "\n",
    "•\t If the person is at least 2 years old but less than 4, print a message that the person is a toddler.\n",
    "\n",
    "•\t If the person is at least 4 years old but less than 13, print a message that the person is a kid.\n",
    "\n",
    "•\t If the person is at least 13 years old but less than 20, print a message that the person is a teenager.\n",
    "\n",
    "•\t If the person is at least 20 years old but less than 65, print a message that the person is an adult.\n",
    "\n",
    "•\t If the person is age 65 or older, print a message that the person is an elder."
   ]
  },
  {
   "cell_type": "code",
   "execution_count": 4,
   "metadata": {},
   "outputs": [
    {
     "name": "stdout",
     "output_type": "stream",
     "text": [
      "enter your age: 1\n",
      "The person is a baby\n"
     ]
    }
   ],
   "source": [
    "age=int(input(\"enter your age: \"))\n",
    "if age<2:\n",
    "    print(\"The person is a baby\")\n",
    "elif age>=2 and age<4:\n",
    "    print(\"The person is a toddler\")\n",
    "elif age>=4 and age<13:\n",
    "    print(\"The person is a kid\")\n",
    "elif age>=12 and age<20:\n",
    "    print(\"The person is a teenager\")\n",
    "elif age>=20 and age<65:\n",
    "    print(\"The person is an adult\")\n",
    "else:\n",
    "    print(\"The person is an elder\")"
   ]
  },
  {
   "cell_type": "markdown",
   "metadata": {},
   "source": [
    "# Q11:"
   ]
  },
  {
   "cell_type": "markdown",
   "metadata": {},
   "source": [
    "Do the following to create a program that simulates how websites ensure that everyone has a unique username.\n",
    "\n",
    "•\t Make a list of five or more usernames called current_users.\n",
    "\n",
    "•\t Make another list of five usernames called new_users. \n",
    "Make sure one or two of the new usernames are also in the current_users list.\n",
    "\n",
    "•\t Loop through the new_users list to see if each new username has already been used. \n",
    "If it has, print a message that the person will need to enter a new username. \n",
    "If a username has not been used, print a message saying that the username is available.\n",
    "\n",
    "•\t Make sure your comparison is case insensitive. If 'John' has been used, 'JOHN' should not be accepted."
   ]
  },
  {
   "cell_type": "code",
   "execution_count": 16,
   "metadata": {},
   "outputs": [
    {
     "name": "stdout",
     "output_type": "stream",
     "text": [
      "The username is available\n",
      "The username is available\n",
      "The username is available\n",
      "The person will need to enter a new username\n",
      "The username is available\n",
      "The person will need to enter a new username\n"
     ]
    }
   ],
   "source": [
    "current_users=[\"Jamil\",\"shabana\",\"aisha\",\"Hira\",\"Rabia\",\"Haniya\"]\n",
    "new_users=[\"HUMAYUN\",\"FARZANA\",\"TEHMINA\",\"SHABANA\",\"USMAN\",\"AISHA\"]\n",
    "current_users_lower = [user.lower() for user in current_users]\n",
    "for n in new_users:\n",
    "    if n.lower() in current_users_lower:\n",
    "        print(\"The person will need to enter a new username\")\n",
    "    else:\n",
    "        print(\"The username is available\")"
   ]
  },
  {
   "cell_type": "markdown",
   "metadata": {},
   "source": [
    "# Q12:"
   ]
  },
  {
   "cell_type": "markdown",
   "metadata": {},
   "source": [
    "Use a dictionary to store information about a person you know.\n",
    "Store their first name, last name, age, and the city in which they live. \n",
    "You should have keys such as first_name, last_name, age, and city. \n",
    "Print each piece of information stored in your dictionary"
   ]
  },
  {
   "cell_type": "code",
   "execution_count": 23,
   "metadata": {},
   "outputs": [
    {
     "name": "stdout",
     "output_type": "stream",
     "text": [
      "Rabia\n",
      "Jamil\n",
      "20\n",
      "Karachi\n"
     ]
    }
   ],
   "source": [
    "person = {'first_name': 'Rabia','last_name': 'Jamil','age': 20,'city': 'Karachi',}\n",
    "print(person['first_name'])\n",
    "print(person['last_name'])\n",
    "print(person['age'])\n",
    "print(person['city'])"
   ]
  },
  {
   "cell_type": "markdown",
   "metadata": {},
   "source": [
    "# Q13:"
   ]
  },
  {
   "cell_type": "markdown",
   "metadata": {},
   "source": [
    "Starts with your last question 12 , loop through the dictionary’s keys and values.\n",
    "When you’re sure that your loop works, add five more Python terms to your\n",
    "dictionary . When you run your program again, these new words and meanings\n",
    "should automatically be included in the output."
   ]
  },
  {
   "cell_type": "code",
   "execution_count": 31,
   "metadata": {},
   "outputs": [
    {
     "name": "stdout",
     "output_type": "stream",
     "text": [
      "Full info. of person\n",
      "first_name Rabia\n",
      "last_name Jamil\n",
      "age 20\n",
      "city Karachi\n",
      "Following are the keys in dictionary:\n",
      "first_name\n",
      "last_name\n",
      "age\n",
      "city\n",
      "Following are the values in dictionary:\n",
      "Rabia\n",
      "Jamil\n",
      "20\n",
      "Karachi\n",
      "first_name Rabia\n",
      "last_name Jamil\n",
      "age 20\n",
      "city Karachi\n",
      "pyterm1 true\n",
      "pyterm2 false\n",
      "pyterm3 if\n",
      "pyterm4 elif\n",
      "pyterm5 def\n"
     ]
    }
   ],
   "source": [
    "print(\"Full info. of person\")\n",
    "for k,v in person.items():\n",
    "    print(k,v)\n",
    "print(\"Following are the keys in dictionary:\")\n",
    "for key in person.keys():\n",
    "    print(key)\n",
    "print(\"Following are the values in dictionary:\")\n",
    "for val in person.values():\n",
    "    print(val)\n",
    "person['pyterm1']=\"true\"\n",
    "person['pyterm2']=\"false\"\n",
    "person['pyterm3']=\"if\"\n",
    "person['pyterm4']=\"elif\"\n",
    "person['pyterm5']=\"def\"\n",
    "for k,v in person.items():\n",
    "    print(k,v)"
   ]
  },
  {
   "cell_type": "markdown",
   "metadata": {},
   "source": [
    "# Q14:"
   ]
  },
  {
   "cell_type": "markdown",
   "metadata": {},
   "source": [
    "Make a dictionary containing three major rivers and the country\n",
    "each river runs through. One key-value pair might be 'nile': 'egypt'.\n",
    "    \n",
    "    \n",
    "•\t Use a loop to print a sentence about each river, such as The Nile runs\n",
    "through Egypt.\n",
    "\n",
    "NOTE: use upper case through keys and values."
   ]
  },
  {
   "cell_type": "code",
   "execution_count": 38,
   "metadata": {},
   "outputs": [
    {
     "name": "stdout",
     "output_type": "stream",
     "text": [
      "The NILE river flows through EGYPT\n",
      "The MISSISSIPPI river flows through UNITED STATES\n",
      "The FRASER river flows through CANADA\n"
     ]
    }
   ],
   "source": [
    "rivers = {'Nile': 'Egypt','Mississippi': 'United States','Fraser': 'Canada'}\n",
    "for k,v in rivers.items():\n",
    "    print(\"The \" +k.upper()+ \" river flows through \" +v.upper())"
   ]
  },
  {
   "cell_type": "markdown",
   "metadata": {},
   "source": [
    "# Q15:"
   ]
  },
  {
   "cell_type": "markdown",
   "metadata": {},
   "source": [
    "Make several dictionaries, where the name of each dictionary is the\n",
    "name of a pet. In each dictionary, include the kind of animal and the owner’s\n",
    "name. Store these dictionaries in a list called pets. Next, loop through your list\n",
    "and as you do print everything you know about each pet."
   ]
  },
  {
   "cell_type": "code",
   "execution_count": 45,
   "metadata": {},
   "outputs": [
    {
     "name": "stdout",
     "output_type": "stream",
     "text": [
      "\n",
      "Pet Name: Shairoo \n",
      "Type: Dog \n",
      "Pet Owner: Rabia\n",
      "\n",
      "Pet Name: Rooh \n",
      "Type: Cat \n",
      "Pet Owner: Hira\n",
      "\n",
      "Pet Name: Jhil_Mil \n",
      "Type: Bird \n",
      "Pet Owner: Aisha\n",
      "\n",
      "Pet Name: Sotu \n",
      "Type: Snake \n",
      "Pet Owner: Haniya\n"
     ]
    }
   ],
   "source": [
    "shairoo = {'name':'shairoo','type': 'dog', 'owner': 'Rabia'}\n",
    "rooh = {'name':'rooh','type': 'cat', 'owner': 'Hira'}\n",
    "jhil_mil = {'name':'jhil_mil','type': 'bird', 'owner': 'Aisha'}\n",
    "sotu = {'name':'sotu','type': 'snake', 'owner': 'Haniya'}\n",
    "pets = [shairoo,rooh,jhil_mil,sotu]\n",
    "for x in pets:\n",
    "    print(\"\\nPet Name:\",x['name'].title(),\"\\nType:\", x['type'].title(), \"\\nPet Owner:\", x['owner'].title())"
   ]
  }
 ],
 "metadata": {
  "kernelspec": {
   "display_name": "Python 3",
   "language": "python",
   "name": "python3"
  },
  "language_info": {
   "codemirror_mode": {
    "name": "ipython",
    "version": 3
   },
   "file_extension": ".py",
   "mimetype": "text/x-python",
   "name": "python",
   "nbconvert_exporter": "python",
   "pygments_lexer": "ipython3",
   "version": "3.7.3"
  }
 },
 "nbformat": 4,
 "nbformat_minor": 2
}
