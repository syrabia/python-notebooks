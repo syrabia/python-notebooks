{
 "cells": [
  {
   "cell_type": "code",
   "execution_count": 5,
   "metadata": {},
   "outputs": [
    {
     "name": "stdout",
     "output_type": "stream",
     "text": [
      "enter the marks: 49\n",
      "try again\n",
      "Your grade is F and your marks are 49\n"
     ]
    }
   ],
   "source": [
    "marks=int(input(\"enter the marks: \"))\n",
    "grade= \" \"\n",
    "if marks>=90:\n",
    "    grade='A*'\n",
    "elif marks>=80:\n",
    "    grade='B'\n",
    "elif marks>=70:\n",
    "    grade='C'\n",
    "elif marks>=60:\n",
    "    grade='D'\n",
    "elif marks>=50:\n",
    "    grade='E'\n",
    "else:\n",
    "    grade='F'\n",
    "    print(\"try again\")\n",
    "print(f'Your grade is {grade} and your marks are {marks}')"
   ]
  },
  {
   "cell_type": "code",
   "execution_count": null,
   "metadata": {},
   "outputs": [],
   "source": []
  }
 ],
 "metadata": {
  "kernelspec": {
   "display_name": "Python 3",
   "language": "python",
   "name": "python3"
  },
  "language_info": {
   "codemirror_mode": {
    "name": "ipython",
    "version": 3
   },
   "file_extension": ".py",
   "mimetype": "text/x-python",
   "name": "python",
   "nbconvert_exporter": "python",
   "pygments_lexer": "ipython3",
   "version": "3.7.3"
  }
 },
 "nbformat": 4,
 "nbformat_minor": 2
}
